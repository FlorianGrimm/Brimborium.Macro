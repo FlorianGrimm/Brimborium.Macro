{
 "cells": [
  {
   "cell_type": "code",
   "execution_count": null,
   "metadata": {
    "dotnet_interactive": {
     "language": "csharp"
    },
    "polyglot_notebook": {
     "kernelName": "csharp"
    }
   },
   "outputs": [
    {
     "ename": "Error",
     "evalue": "error CS1705: Assembly 'Brimborium.Macro.HostLibrary' with identity 'Brimborium.Macro.HostLibrary, Version=1.0.0.0, Culture=neutral, PublicKeyToken=null' uses 'Microsoft.CodeAnalysis.Workspaces, Version=4.11.0.0, Culture=neutral, PublicKeyToken=31bf3856ad364e35' which has a higher version than referenced assembly 'Microsoft.CodeAnalysis.Workspaces' with identity 'Microsoft.CodeAnalysis.Workspaces, Version=4.8.0.0, Culture=neutral, PublicKeyToken=31bf3856ad364e35'",
     "output_type": "error",
     "traceback": [
      "error CS1705: Assembly 'Brimborium.Macro.HostLibrary' with identity 'Brimborium.Macro.HostLibrary, Version=1.0.0.0, Culture=neutral, PublicKeyToken=null' uses 'Microsoft.CodeAnalysis.Workspaces, Version=4.11.0.0, Culture=neutral, PublicKeyToken=31bf3856ad364e35' which has a higher version than referenced assembly 'Microsoft.CodeAnalysis.Workspaces' with identity 'Microsoft.CodeAnalysis.Workspaces, Version=4.8.0.0, Culture=neutral, PublicKeyToken=31bf3856ad364e35'"
     ]
    }
   ],
   "source": [
    "#!csharp\n",
    "\n",
    "// #r \"nuget:System.Formats.Asn1,8.0.1\"\n",
    "// #r \"nuget:Microsoft.CodeAnalysis.Workspaces.MSBuild,4.11.0\"\n",
    "// #r \"nuget:Microsoft.CodeAnalysis.CSharp.Workspaces,4.11.0\"\n",
    "// #r \"nuget:Microsoft.CodeAnalysis.Analyzers,3.11.0\"\n",
    "// #r \"nuget:Microsoft.Build.Locator,1.7.8\"\n",
    "// #r \"nuget:System.Text.Json,8.0.5\"\n",
    "#r \"Brimborium.Macro.HostLibrary\\bin\\Debug\\net8.0\\Brimborium.Macro.HostLibrary.dll\"\n",
    "\n",
    "using Brimborium.Macro;\n",
    "public static JupiterUtlity Root;\n",
    "\n",
    "Root = await Brimborium.Macro.JupiterUtlity.Create().Build().OpenSolutionAsync(@\"Sample\\Sample.sln\");\n",
    "Root.Solution.FilePath"
   ]
  },
  {
   "cell_type": "code",
   "execution_count": null,
   "metadata": {
    "dotnet_interactive": {
     "language": "csharp"
    },
    "polyglot_notebook": {
     "kernelName": "csharp"
    }
   },
   "outputs": [],
   "source": [
    "Root.Solution.FilePath\n"
   ]
  },
  {
   "cell_type": "markdown",
   "metadata": {},
   "source": [
    "Error: error CS1705: Assembly 'Brimborium.Macro.HostLibrary' with identity 'Brimborium.Macro.HostLibrary, Version=1.0.0.0, Culture=neutral, PublicKeyToken=null' uses 'Microsoft.CodeAnalysis.Workspaces, Version=4.11.0.0, Culture=neutral, PublicKeyToken=31bf3856ad364e35' which has a higher version than referenced assembly 'Microsoft.CodeAnalysis.Workspaces' with identity 'Microsoft.CodeAnalysis.Workspaces, Version=4.8.0.0, Culture=neutral, PublicKeyToken=31bf3856ad364e35'"
   ]
  }
 ],
 "metadata": {
  "kernelspec": {
   "display_name": ".NET (C#)",
   "language": "C#",
   "name": ".net-csharp"
  },
  "polyglot_notebook": {
   "kernelInfo": {
    "defaultKernelName": "csharp",
    "items": [
     {
      "aliases": [],
      "name": "csharp"
     }
    ]
   }
  }
 },
 "nbformat": 4,
 "nbformat_minor": 2
}
